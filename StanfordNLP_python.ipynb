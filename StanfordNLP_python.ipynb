{
  "nbformat": 4,
  "nbformat_minor": 0,
  "metadata": {
    "colab": {
      "name": "StanfordNLP_python.ipynb",
      "version": "0.3.2",
      "provenance": [],
      "include_colab_link": true
    },
    "kernelspec": {
      "name": "python3",
      "display_name": "Python 3"
    }
  },
  "cells": [
    {
      "cell_type": "markdown",
      "metadata": {
        "id": "view-in-github",
        "colab_type": "text"
      },
      "source": [
        "<a href=\"https://colab.research.google.com/github/binliu0630/NLP/blob/master/StanfordNLP_python.ipynb\" target=\"_parent\"><img src=\"https://colab.research.google.com/assets/colab-badge.svg\" alt=\"Open In Colab\"/></a>"
      ]
    },
    {
      "cell_type": "markdown",
      "metadata": {
        "id": "_7Z-1scwsI_E",
        "colab_type": "text"
      },
      "source": [
        "https://www.analyticsvidhya.com/blog/2019/02/stanfordnlp-nlp-library-python/?utm_campaign=Learning%20Posts&utm_content=84608405&utm_medium=social&utm_source=twitter&hss_channel=tw-3018841323\n"
      ]
    },
    {
      "cell_type": "code",
      "metadata": {
        "id": "PU247tK6sIAP",
        "colab_type": "code",
        "colab": {}
      },
      "source": [
        ""
      ],
      "execution_count": 0,
      "outputs": []
    }
  ]
}